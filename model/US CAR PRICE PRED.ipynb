{
 "cells": [
  {
   "cell_type": "code",
   "execution_count": 2,
   "id": "d10d1941",
   "metadata": {},
   "outputs": [],
   "source": [
    "import numpy as np\n",
    "import pandas as pd\n",
    "import matplotlib.pyplot as plt\n",
    "from sklearn.model_selection import train_test_split,cross_val_score, GridSearchCV\n",
    "import seaborn as sns\n",
    "from pandas.plotting import scatter_matrix\n",
    "from sklearn.preprocessing import OneHotEncoder\n",
    "from sklearn.pipeline import Pipeline\n",
    "from sklearn.impute import SimpleImputer\n",
    "from sklearn.base import TransformerMixin, BaseEstimator\n",
    "from sklearn.preprocessing import StandardScaler\n",
    "from sklearn.compose import ColumnTransformer\n",
    "from sklearn.preprocessing import OrdinalEncoder\n",
    "from sklearn.linear_model import LinearRegression\n",
    "from sklearn.metrics import mean_squared_error\n",
    "from sklearn.tree import DecisionTreeRegressor\n",
    "from sklearn.ensemble import RandomForestRegressor\n",
    "import pickle as pkl\n",
    "import json"
   ]
  },
  {
   "cell_type": "code",
   "execution_count": 3,
   "id": "7f3ed0af",
   "metadata": {},
   "outputs": [
    {
     "ename": "FileNotFoundError",
     "evalue": "[Errno 2] No such file or directory: 'dataset\\\\cars_dataset.csv'",
     "output_type": "error",
     "traceback": [
      "\u001b[1;31m---------------------------------------------------------------------------\u001b[0m",
      "\u001b[1;31mFileNotFoundError\u001b[0m                         Traceback (most recent call last)",
      "Input \u001b[1;32mIn [3]\u001b[0m, in \u001b[0;36m<cell line: 1>\u001b[1;34m()\u001b[0m\n\u001b[1;32m----> 1\u001b[0m data \u001b[38;5;241m=\u001b[39m \u001b[43mpd\u001b[49m\u001b[38;5;241;43m.\u001b[39;49m\u001b[43mread_csv\u001b[49m\u001b[43m(\u001b[49m\u001b[38;5;124;43mr\u001b[39;49m\u001b[38;5;124;43m\"\u001b[39;49m\u001b[38;5;124;43mdataset\u001b[39;49m\u001b[38;5;124;43m\\\u001b[39;49m\u001b[38;5;124;43mcars_dataset.csv\u001b[39;49m\u001b[38;5;124;43m\"\u001b[39;49m\u001b[43m)\u001b[49m\n\u001b[0;32m      2\u001b[0m data\n",
      "File \u001b[1;32mC:\\Python3101\\lib\\site-packages\\pandas\\util\\_decorators.py:311\u001b[0m, in \u001b[0;36mdeprecate_nonkeyword_arguments.<locals>.decorate.<locals>.wrapper\u001b[1;34m(*args, **kwargs)\u001b[0m\n\u001b[0;32m    305\u001b[0m \u001b[38;5;28;01mif\u001b[39;00m \u001b[38;5;28mlen\u001b[39m(args) \u001b[38;5;241m>\u001b[39m num_allow_args:\n\u001b[0;32m    306\u001b[0m     warnings\u001b[38;5;241m.\u001b[39mwarn(\n\u001b[0;32m    307\u001b[0m         msg\u001b[38;5;241m.\u001b[39mformat(arguments\u001b[38;5;241m=\u001b[39marguments),\n\u001b[0;32m    308\u001b[0m         \u001b[38;5;167;01mFutureWarning\u001b[39;00m,\n\u001b[0;32m    309\u001b[0m         stacklevel\u001b[38;5;241m=\u001b[39mstacklevel,\n\u001b[0;32m    310\u001b[0m     )\n\u001b[1;32m--> 311\u001b[0m \u001b[38;5;28;01mreturn\u001b[39;00m func(\u001b[38;5;241m*\u001b[39margs, \u001b[38;5;241m*\u001b[39m\u001b[38;5;241m*\u001b[39mkwargs)\n",
      "File \u001b[1;32mC:\\Python3101\\lib\\site-packages\\pandas\\io\\parsers\\readers.py:680\u001b[0m, in \u001b[0;36mread_csv\u001b[1;34m(filepath_or_buffer, sep, delimiter, header, names, index_col, usecols, squeeze, prefix, mangle_dupe_cols, dtype, engine, converters, true_values, false_values, skipinitialspace, skiprows, skipfooter, nrows, na_values, keep_default_na, na_filter, verbose, skip_blank_lines, parse_dates, infer_datetime_format, keep_date_col, date_parser, dayfirst, cache_dates, iterator, chunksize, compression, thousands, decimal, lineterminator, quotechar, quoting, doublequote, escapechar, comment, encoding, encoding_errors, dialect, error_bad_lines, warn_bad_lines, on_bad_lines, delim_whitespace, low_memory, memory_map, float_precision, storage_options)\u001b[0m\n\u001b[0;32m    665\u001b[0m kwds_defaults \u001b[38;5;241m=\u001b[39m _refine_defaults_read(\n\u001b[0;32m    666\u001b[0m     dialect,\n\u001b[0;32m    667\u001b[0m     delimiter,\n\u001b[1;32m   (...)\u001b[0m\n\u001b[0;32m    676\u001b[0m     defaults\u001b[38;5;241m=\u001b[39m{\u001b[38;5;124m\"\u001b[39m\u001b[38;5;124mdelimiter\u001b[39m\u001b[38;5;124m\"\u001b[39m: \u001b[38;5;124m\"\u001b[39m\u001b[38;5;124m,\u001b[39m\u001b[38;5;124m\"\u001b[39m},\n\u001b[0;32m    677\u001b[0m )\n\u001b[0;32m    678\u001b[0m kwds\u001b[38;5;241m.\u001b[39mupdate(kwds_defaults)\n\u001b[1;32m--> 680\u001b[0m \u001b[38;5;28;01mreturn\u001b[39;00m \u001b[43m_read\u001b[49m\u001b[43m(\u001b[49m\u001b[43mfilepath_or_buffer\u001b[49m\u001b[43m,\u001b[49m\u001b[43m \u001b[49m\u001b[43mkwds\u001b[49m\u001b[43m)\u001b[49m\n",
      "File \u001b[1;32mC:\\Python3101\\lib\\site-packages\\pandas\\io\\parsers\\readers.py:575\u001b[0m, in \u001b[0;36m_read\u001b[1;34m(filepath_or_buffer, kwds)\u001b[0m\n\u001b[0;32m    572\u001b[0m _validate_names(kwds\u001b[38;5;241m.\u001b[39mget(\u001b[38;5;124m\"\u001b[39m\u001b[38;5;124mnames\u001b[39m\u001b[38;5;124m\"\u001b[39m, \u001b[38;5;28;01mNone\u001b[39;00m))\n\u001b[0;32m    574\u001b[0m \u001b[38;5;66;03m# Create the parser.\u001b[39;00m\n\u001b[1;32m--> 575\u001b[0m parser \u001b[38;5;241m=\u001b[39m TextFileReader(filepath_or_buffer, \u001b[38;5;241m*\u001b[39m\u001b[38;5;241m*\u001b[39mkwds)\n\u001b[0;32m    577\u001b[0m \u001b[38;5;28;01mif\u001b[39;00m chunksize \u001b[38;5;129;01mor\u001b[39;00m iterator:\n\u001b[0;32m    578\u001b[0m     \u001b[38;5;28;01mreturn\u001b[39;00m parser\n",
      "File \u001b[1;32mC:\\Python3101\\lib\\site-packages\\pandas\\io\\parsers\\readers.py:933\u001b[0m, in \u001b[0;36mTextFileReader.__init__\u001b[1;34m(self, f, engine, **kwds)\u001b[0m\n\u001b[0;32m    930\u001b[0m     \u001b[38;5;28mself\u001b[39m\u001b[38;5;241m.\u001b[39moptions[\u001b[38;5;124m\"\u001b[39m\u001b[38;5;124mhas_index_names\u001b[39m\u001b[38;5;124m\"\u001b[39m] \u001b[38;5;241m=\u001b[39m kwds[\u001b[38;5;124m\"\u001b[39m\u001b[38;5;124mhas_index_names\u001b[39m\u001b[38;5;124m\"\u001b[39m]\n\u001b[0;32m    932\u001b[0m \u001b[38;5;28mself\u001b[39m\u001b[38;5;241m.\u001b[39mhandles: IOHandles \u001b[38;5;241m|\u001b[39m \u001b[38;5;28;01mNone\u001b[39;00m \u001b[38;5;241m=\u001b[39m \u001b[38;5;28;01mNone\u001b[39;00m\n\u001b[1;32m--> 933\u001b[0m \u001b[38;5;28mself\u001b[39m\u001b[38;5;241m.\u001b[39m_engine \u001b[38;5;241m=\u001b[39m \u001b[38;5;28;43mself\u001b[39;49m\u001b[38;5;241;43m.\u001b[39;49m\u001b[43m_make_engine\u001b[49m\u001b[43m(\u001b[49m\u001b[43mf\u001b[49m\u001b[43m,\u001b[49m\u001b[43m \u001b[49m\u001b[38;5;28;43mself\u001b[39;49m\u001b[38;5;241;43m.\u001b[39;49m\u001b[43mengine\u001b[49m\u001b[43m)\u001b[49m\n",
      "File \u001b[1;32mC:\\Python3101\\lib\\site-packages\\pandas\\io\\parsers\\readers.py:1217\u001b[0m, in \u001b[0;36mTextFileReader._make_engine\u001b[1;34m(self, f, engine)\u001b[0m\n\u001b[0;32m   1213\u001b[0m     mode \u001b[38;5;241m=\u001b[39m \u001b[38;5;124m\"\u001b[39m\u001b[38;5;124mrb\u001b[39m\u001b[38;5;124m\"\u001b[39m\n\u001b[0;32m   1214\u001b[0m \u001b[38;5;66;03m# error: No overload variant of \"get_handle\" matches argument types\u001b[39;00m\n\u001b[0;32m   1215\u001b[0m \u001b[38;5;66;03m# \"Union[str, PathLike[str], ReadCsvBuffer[bytes], ReadCsvBuffer[str]]\"\u001b[39;00m\n\u001b[0;32m   1216\u001b[0m \u001b[38;5;66;03m# , \"str\", \"bool\", \"Any\", \"Any\", \"Any\", \"Any\", \"Any\"\u001b[39;00m\n\u001b[1;32m-> 1217\u001b[0m \u001b[38;5;28mself\u001b[39m\u001b[38;5;241m.\u001b[39mhandles \u001b[38;5;241m=\u001b[39m \u001b[43mget_handle\u001b[49m\u001b[43m(\u001b[49m\u001b[43m  \u001b[49m\u001b[38;5;66;43;03m# type: ignore[call-overload]\u001b[39;49;00m\n\u001b[0;32m   1218\u001b[0m \u001b[43m    \u001b[49m\u001b[43mf\u001b[49m\u001b[43m,\u001b[49m\n\u001b[0;32m   1219\u001b[0m \u001b[43m    \u001b[49m\u001b[43mmode\u001b[49m\u001b[43m,\u001b[49m\n\u001b[0;32m   1220\u001b[0m \u001b[43m    \u001b[49m\u001b[43mencoding\u001b[49m\u001b[38;5;241;43m=\u001b[39;49m\u001b[38;5;28;43mself\u001b[39;49m\u001b[38;5;241;43m.\u001b[39;49m\u001b[43moptions\u001b[49m\u001b[38;5;241;43m.\u001b[39;49m\u001b[43mget\u001b[49m\u001b[43m(\u001b[49m\u001b[38;5;124;43m\"\u001b[39;49m\u001b[38;5;124;43mencoding\u001b[39;49m\u001b[38;5;124;43m\"\u001b[39;49m\u001b[43m,\u001b[49m\u001b[43m \u001b[49m\u001b[38;5;28;43;01mNone\u001b[39;49;00m\u001b[43m)\u001b[49m\u001b[43m,\u001b[49m\n\u001b[0;32m   1221\u001b[0m \u001b[43m    \u001b[49m\u001b[43mcompression\u001b[49m\u001b[38;5;241;43m=\u001b[39;49m\u001b[38;5;28;43mself\u001b[39;49m\u001b[38;5;241;43m.\u001b[39;49m\u001b[43moptions\u001b[49m\u001b[38;5;241;43m.\u001b[39;49m\u001b[43mget\u001b[49m\u001b[43m(\u001b[49m\u001b[38;5;124;43m\"\u001b[39;49m\u001b[38;5;124;43mcompression\u001b[39;49m\u001b[38;5;124;43m\"\u001b[39;49m\u001b[43m,\u001b[49m\u001b[43m \u001b[49m\u001b[38;5;28;43;01mNone\u001b[39;49;00m\u001b[43m)\u001b[49m\u001b[43m,\u001b[49m\n\u001b[0;32m   1222\u001b[0m \u001b[43m    \u001b[49m\u001b[43mmemory_map\u001b[49m\u001b[38;5;241;43m=\u001b[39;49m\u001b[38;5;28;43mself\u001b[39;49m\u001b[38;5;241;43m.\u001b[39;49m\u001b[43moptions\u001b[49m\u001b[38;5;241;43m.\u001b[39;49m\u001b[43mget\u001b[49m\u001b[43m(\u001b[49m\u001b[38;5;124;43m\"\u001b[39;49m\u001b[38;5;124;43mmemory_map\u001b[39;49m\u001b[38;5;124;43m\"\u001b[39;49m\u001b[43m,\u001b[49m\u001b[43m \u001b[49m\u001b[38;5;28;43;01mFalse\u001b[39;49;00m\u001b[43m)\u001b[49m\u001b[43m,\u001b[49m\n\u001b[0;32m   1223\u001b[0m \u001b[43m    \u001b[49m\u001b[43mis_text\u001b[49m\u001b[38;5;241;43m=\u001b[39;49m\u001b[43mis_text\u001b[49m\u001b[43m,\u001b[49m\n\u001b[0;32m   1224\u001b[0m \u001b[43m    \u001b[49m\u001b[43merrors\u001b[49m\u001b[38;5;241;43m=\u001b[39;49m\u001b[38;5;28;43mself\u001b[39;49m\u001b[38;5;241;43m.\u001b[39;49m\u001b[43moptions\u001b[49m\u001b[38;5;241;43m.\u001b[39;49m\u001b[43mget\u001b[49m\u001b[43m(\u001b[49m\u001b[38;5;124;43m\"\u001b[39;49m\u001b[38;5;124;43mencoding_errors\u001b[39;49m\u001b[38;5;124;43m\"\u001b[39;49m\u001b[43m,\u001b[49m\u001b[43m \u001b[49m\u001b[38;5;124;43m\"\u001b[39;49m\u001b[38;5;124;43mstrict\u001b[39;49m\u001b[38;5;124;43m\"\u001b[39;49m\u001b[43m)\u001b[49m\u001b[43m,\u001b[49m\n\u001b[0;32m   1225\u001b[0m \u001b[43m    \u001b[49m\u001b[43mstorage_options\u001b[49m\u001b[38;5;241;43m=\u001b[39;49m\u001b[38;5;28;43mself\u001b[39;49m\u001b[38;5;241;43m.\u001b[39;49m\u001b[43moptions\u001b[49m\u001b[38;5;241;43m.\u001b[39;49m\u001b[43mget\u001b[49m\u001b[43m(\u001b[49m\u001b[38;5;124;43m\"\u001b[39;49m\u001b[38;5;124;43mstorage_options\u001b[39;49m\u001b[38;5;124;43m\"\u001b[39;49m\u001b[43m,\u001b[49m\u001b[43m \u001b[49m\u001b[38;5;28;43;01mNone\u001b[39;49;00m\u001b[43m)\u001b[49m\u001b[43m,\u001b[49m\n\u001b[0;32m   1226\u001b[0m \u001b[43m\u001b[49m\u001b[43m)\u001b[49m\n\u001b[0;32m   1227\u001b[0m \u001b[38;5;28;01massert\u001b[39;00m \u001b[38;5;28mself\u001b[39m\u001b[38;5;241m.\u001b[39mhandles \u001b[38;5;129;01mis\u001b[39;00m \u001b[38;5;129;01mnot\u001b[39;00m \u001b[38;5;28;01mNone\u001b[39;00m\n\u001b[0;32m   1228\u001b[0m f \u001b[38;5;241m=\u001b[39m \u001b[38;5;28mself\u001b[39m\u001b[38;5;241m.\u001b[39mhandles\u001b[38;5;241m.\u001b[39mhandle\n",
      "File \u001b[1;32mC:\\Python3101\\lib\\site-packages\\pandas\\io\\common.py:789\u001b[0m, in \u001b[0;36mget_handle\u001b[1;34m(path_or_buf, mode, encoding, compression, memory_map, is_text, errors, storage_options)\u001b[0m\n\u001b[0;32m    784\u001b[0m \u001b[38;5;28;01melif\u001b[39;00m \u001b[38;5;28misinstance\u001b[39m(handle, \u001b[38;5;28mstr\u001b[39m):\n\u001b[0;32m    785\u001b[0m     \u001b[38;5;66;03m# Check whether the filename is to be opened in binary mode.\u001b[39;00m\n\u001b[0;32m    786\u001b[0m     \u001b[38;5;66;03m# Binary mode does not support 'encoding' and 'newline'.\u001b[39;00m\n\u001b[0;32m    787\u001b[0m     \u001b[38;5;28;01mif\u001b[39;00m ioargs\u001b[38;5;241m.\u001b[39mencoding \u001b[38;5;129;01mand\u001b[39;00m \u001b[38;5;124m\"\u001b[39m\u001b[38;5;124mb\u001b[39m\u001b[38;5;124m\"\u001b[39m \u001b[38;5;129;01mnot\u001b[39;00m \u001b[38;5;129;01min\u001b[39;00m ioargs\u001b[38;5;241m.\u001b[39mmode:\n\u001b[0;32m    788\u001b[0m         \u001b[38;5;66;03m# Encoding\u001b[39;00m\n\u001b[1;32m--> 789\u001b[0m         handle \u001b[38;5;241m=\u001b[39m \u001b[38;5;28;43mopen\u001b[39;49m\u001b[43m(\u001b[49m\n\u001b[0;32m    790\u001b[0m \u001b[43m            \u001b[49m\u001b[43mhandle\u001b[49m\u001b[43m,\u001b[49m\n\u001b[0;32m    791\u001b[0m \u001b[43m            \u001b[49m\u001b[43mioargs\u001b[49m\u001b[38;5;241;43m.\u001b[39;49m\u001b[43mmode\u001b[49m\u001b[43m,\u001b[49m\n\u001b[0;32m    792\u001b[0m \u001b[43m            \u001b[49m\u001b[43mencoding\u001b[49m\u001b[38;5;241;43m=\u001b[39;49m\u001b[43mioargs\u001b[49m\u001b[38;5;241;43m.\u001b[39;49m\u001b[43mencoding\u001b[49m\u001b[43m,\u001b[49m\n\u001b[0;32m    793\u001b[0m \u001b[43m            \u001b[49m\u001b[43merrors\u001b[49m\u001b[38;5;241;43m=\u001b[39;49m\u001b[43merrors\u001b[49m\u001b[43m,\u001b[49m\n\u001b[0;32m    794\u001b[0m \u001b[43m            \u001b[49m\u001b[43mnewline\u001b[49m\u001b[38;5;241;43m=\u001b[39;49m\u001b[38;5;124;43m\"\u001b[39;49m\u001b[38;5;124;43m\"\u001b[39;49m\u001b[43m,\u001b[49m\n\u001b[0;32m    795\u001b[0m \u001b[43m        \u001b[49m\u001b[43m)\u001b[49m\n\u001b[0;32m    796\u001b[0m     \u001b[38;5;28;01melse\u001b[39;00m:\n\u001b[0;32m    797\u001b[0m         \u001b[38;5;66;03m# Binary mode\u001b[39;00m\n\u001b[0;32m    798\u001b[0m         handle \u001b[38;5;241m=\u001b[39m \u001b[38;5;28mopen\u001b[39m(handle, ioargs\u001b[38;5;241m.\u001b[39mmode)\n",
      "\u001b[1;31mFileNotFoundError\u001b[0m: [Errno 2] No such file or directory: 'dataset\\\\cars_dataset.csv'"
     ]
    }
   ],
   "source": [
    "data = pd.read_csv(r\"dataset\\cars_dataset.csv\")\n",
    "data"
   ]
  },
  {
   "cell_type": "code",
   "execution_count": null,
   "id": "2ac84824",
   "metadata": {},
   "outputs": [],
   "source": [
    "data.info()"
   ]
  },
  {
   "cell_type": "code",
   "execution_count": null,
   "id": "36764903",
   "metadata": {},
   "outputs": [],
   "source": [
    "data.drop(columns = [\"Unnamed: 0\"],inplace = True)"
   ]
  },
  {
   "cell_type": "code",
   "execution_count": null,
   "id": "d2d86cbb",
   "metadata": {},
   "outputs": [],
   "source": [
    "data.info()"
   ]
  },
  {
   "cell_type": "code",
   "execution_count": null,
   "id": "32706414",
   "metadata": {},
   "outputs": [],
   "source": []
  },
  {
   "cell_type": "code",
   "execution_count": null,
   "id": "c5800a58",
   "metadata": {},
   "outputs": [],
   "source": [
    "data.describe()\n"
   ]
  },
  {
   "cell_type": "code",
   "execution_count": null,
   "id": "bd53d3df",
   "metadata": {},
   "outputs": [],
   "source": [
    "%matplotlib inline\n",
    "data.hist(figsize = (10,10),bins = 50)"
   ]
  },
  {
   "cell_type": "code",
   "execution_count": null,
   "id": "53556fcd",
   "metadata": {},
   "outputs": [],
   "source": [
    "plt.ticklabel_format(useOffset=False,style = \"plain\",axis = \"x\")\n",
    "#list_x = np.arange(0,300000,100000)\n",
    "#plt.xticks(list_x)\n",
    "data[\"mileage\"].plot(kind = \"hist\",bins = 100,figsize = (10,5))\n",
    "plt.show()"
   ]
  },
  {
   "cell_type": "code",
   "execution_count": null,
   "id": "4044b2f0",
   "metadata": {},
   "outputs": [],
   "source": []
  },
  {
   "cell_type": "markdown",
   "id": "890dcf5e",
   "metadata": {},
   "source": [
    "# Preparing training and testing datasets"
   ]
  },
  {
   "cell_type": "code",
   "execution_count": null,
   "id": "97e73347",
   "metadata": {},
   "outputs": [],
   "source": [
    "train_set,test_set = train_test_split(data, test_size = 0.2,random_state = 42)"
   ]
  },
  {
   "cell_type": "code",
   "execution_count": null,
   "id": "c1d22f47",
   "metadata": {},
   "outputs": [],
   "source": [
    "data[\"mileage_driven\"] = pd.cut(data[\"mileage\"],\n",
    "                                bins =[0,20000,40000,60000,80000,100000,np.inf],\n",
    "                               ).astype(str)\n"
   ]
  },
  {
   "cell_type": "code",
   "execution_count": null,
   "id": "2fedd174",
   "metadata": {},
   "outputs": [],
   "source": []
  },
  {
   "cell_type": "code",
   "execution_count": null,
   "id": "997d568c",
   "metadata": {},
   "outputs": [],
   "source": [
    "plt.figure(figsize = (10,5))\n",
    "\n",
    "data[\"mileage_driven\"].hist()"
   ]
  },
  {
   "cell_type": "code",
   "execution_count": null,
   "id": "aab5bb95",
   "metadata": {},
   "outputs": [],
   "source": [
    "data[\"mileage_driven\"].value_counts()"
   ]
  },
  {
   "cell_type": "code",
   "execution_count": null,
   "id": "82ee055f",
   "metadata": {},
   "outputs": [],
   "source": []
  },
  {
   "cell_type": "code",
   "execution_count": null,
   "id": "ff976775",
   "metadata": {},
   "outputs": [],
   "source": [
    "\"\"\"\n",
    "from sklearn.model_selection import StratifiedShuffleSplit\n",
    "split = StratifiedShuffleSplit(n_splits=1, test_size=0.2, random_state=42)\n",
    "for train_index, test_index in split.split(train_set, train_set[\"mileage_driven\"]):\n",
    "strat_train_set = train_set.loc[train_index]\n",
    "strat_test_set = train_set.loc[test_index]\n",
    "\"\"\""
   ]
  },
  {
   "cell_type": "code",
   "execution_count": null,
   "id": "c2c66176",
   "metadata": {},
   "outputs": [],
   "source": [
    "#train_set[\"mileage_driven\"].value_counts() / len(train_set)"
   ]
  },
  {
   "cell_type": "code",
   "execution_count": null,
   "id": "3d00741b",
   "metadata": {},
   "outputs": [],
   "source": [
    "#test_set[\"mileage_driven\"].value_counts() / len(test_set)"
   ]
  },
  {
   "cell_type": "code",
   "execution_count": null,
   "id": "9757b34b",
   "metadata": {},
   "outputs": [],
   "source": [
    "data.drop(\"mileage_driven\", axis=1, inplace=True)"
   ]
  },
  {
   "cell_type": "code",
   "execution_count": null,
   "id": "d01b49fb",
   "metadata": {},
   "outputs": [],
   "source": [
    "data"
   ]
  },
  {
   "cell_type": "code",
   "execution_count": null,
   "id": "7e158f50",
   "metadata": {},
   "outputs": [],
   "source": []
  },
  {
   "cell_type": "markdown",
   "id": "da7a8ec3",
   "metadata": {},
   "source": [
    "# Visualization"
   ]
  },
  {
   "cell_type": "code",
   "execution_count": null,
   "id": "f7b05bb3",
   "metadata": {},
   "outputs": [],
   "source": [
    "cars = train_set.copy()"
   ]
  },
  {
   "cell_type": "code",
   "execution_count": null,
   "id": "12b1fd71",
   "metadata": {},
   "outputs": [],
   "source": [
    "cars"
   ]
  },
  {
   "cell_type": "code",
   "execution_count": null,
   "id": "142d4aea",
   "metadata": {},
   "outputs": [],
   "source": [
    "cor = cars.corr()\n",
    "cor[\"price\"].sort_values()"
   ]
  },
  {
   "cell_type": "code",
   "execution_count": null,
   "id": "2ce4288c",
   "metadata": {},
   "outputs": [],
   "source": [
    "attr = [\"mileage\",\"year\",\"price\"]\n",
    "scatter_matrix(cars[attr],figsize = (12,10))"
   ]
  },
  {
   "cell_type": "code",
   "execution_count": null,
   "id": "3b7b63ae",
   "metadata": {},
   "outputs": [],
   "source": [
    "cars.plot(kind = \"scatter\",x = \"mileage\",y = \"price\",alpha = 0.1)"
   ]
  },
  {
   "cell_type": "code",
   "execution_count": null,
   "id": "3291b59c",
   "metadata": {},
   "outputs": [],
   "source": [
    "cars.plot(kind = \"scatter\",x = \"year\",y = \"price\",alpha = 0.1)"
   ]
  },
  {
   "cell_type": "code",
   "execution_count": null,
   "id": "721f5c37",
   "metadata": {},
   "outputs": [],
   "source": [
    "plt.figure(figsize = (20,10))\n",
    "sns.countplot(data = cars,x = \"brand\")\n"
   ]
  },
  {
   "cell_type": "code",
   "execution_count": null,
   "id": "b885c58e",
   "metadata": {},
   "outputs": [],
   "source": [
    "cars[\"brand\"].value_counts()"
   ]
  },
  {
   "cell_type": "code",
   "execution_count": null,
   "id": "82528499",
   "metadata": {},
   "outputs": [],
   "source": [
    "plt.figure(figsize = (10,8))\n",
    "sns.countplot(data = cars,x = \"title_status\")"
   ]
  },
  {
   "cell_type": "code",
   "execution_count": null,
   "id": "35507168",
   "metadata": {},
   "outputs": [],
   "source": [
    "avg_price_by_state = cars.groupby(\"state\")[\"price\"].apply(\"mean\")\n",
    "avg_num_cars_by_state = cars[\"state\"].value_counts()\n",
    "cols = {\n",
    "    \"avg_price\":avg_price_by_state,\n",
    "    \"avg_num_cars\":avg_num_cars_by_state\n",
    "}\n",
    "pd.DataFrame(cols)"
   ]
  },
  {
   "cell_type": "markdown",
   "id": "4f563d47",
   "metadata": {},
   "source": [
    "# Preprocessing the data"
   ]
  },
  {
   "cell_type": "code",
   "execution_count": null,
   "id": "9181d246",
   "metadata": {},
   "outputs": [],
   "source": [
    "temp = pd.Series(np.where(train_set[\"price\"] > 0,\">0 Price\",\"==0 Price\"))\n",
    "prct = temp.value_counts()\n",
    "prct"
   ]
  },
  {
   "cell_type": "code",
   "execution_count": null,
   "id": "76e531da",
   "metadata": {},
   "outputs": [],
   "source": [
    "class null_price_drop(BaseEstimator,TransformerMixin):\n",
    "    def __init__(self,data = None):\n",
    "        self.column = data\n",
    "                \n",
    "    def fit(self,X,y = None):\n",
    "        return self\n",
    "    \n",
    "    def transform(self,X,y = None):\n",
    "        df = X.copy()\n",
    "        df = df[df[\"price\"]!= 0]\n",
    "       \n",
    "        return df\n",
    "        \n",
    "    \n",
    "    def fit_transform(self,X,y = None):\n",
    "        return self.fit(X,y).transform(X,y)"
   ]
  },
  {
   "cell_type": "code",
   "execution_count": null,
   "id": "b309170a",
   "metadata": {},
   "outputs": [],
   "source": [
    "null_pipe = null_price_drop()\n",
    "train_set = null_pipe.transform(train_set)\n",
    "#train_set"
   ]
  },
  {
   "cell_type": "code",
   "execution_count": null,
   "id": "caa60239",
   "metadata": {},
   "outputs": [],
   "source": [
    "#testing null_price_drop transformer\n",
    "temp = pd.Series(np.where(train_set[\"price\"] > 0,\">0 Price\",\"==0 Price\"))\n",
    "prct = temp.value_counts()\n",
    "prct"
   ]
  },
  {
   "cell_type": "code",
   "execution_count": null,
   "id": "b1820559",
   "metadata": {},
   "outputs": [],
   "source": [
    "class group_brand(BaseEstimator,TransformerMixin):\n",
    "    def __init__(self,columns = None):\n",
    "        self.columns = columns\n",
    "    \n",
    "    def fit(self,X,y = None):\n",
    "        return self\n",
    "    \n",
    "    def transform(self,X,y = None):\n",
    "        df = X.copy()\n",
    "        brand_stat = df.groupby(\"brand\")[\"brand\"].agg(\"count\")\n",
    "        brand_less_10 = brand_stat[brand_stat < 10]\n",
    "        df[\"brand\"] = df[\"brand\"].apply(lambda x:\"other\" if x in brand_less_10 else x)\n",
    "        return df\n",
    "    \n",
    "    def fit_transform(self,X,y = None):\n",
    "        return self.fit(X,y).transform(X,y)"
   ]
  },
  {
   "cell_type": "code",
   "execution_count": null,
   "id": "7a8451d4",
   "metadata": {},
   "outputs": [],
   "source": [
    "# testing group_brand transformer\n",
    "\"\"\"\n",
    "grouping = group_brand()\n",
    "cars_in_grouped = grouping.transform(cars_in)\n",
    "cars_in_grouped[\"brand\"].unique()\n",
    "\"\"\""
   ]
  },
  {
   "cell_type": "code",
   "execution_count": null,
   "id": "f2d4a211",
   "metadata": {},
   "outputs": [],
   "source": [
    "#len(cars_in_grouped[\"brand\"].unique())"
   ]
  },
  {
   "cell_type": "code",
   "execution_count": null,
   "id": "3cd76874",
   "metadata": {},
   "outputs": [],
   "source": [
    "grouping_and_null = Pipeline([\n",
    "    (\"dropping_null\",null_price_drop()),\n",
    "    (\"grouping_brand\",group_brand())\n",
    "])\n",
    "\n",
    "train_set = grouping_and_null.fit_transform(train_set)"
   ]
  },
  {
   "cell_type": "code",
   "execution_count": null,
   "id": "fa4c6e76",
   "metadata": {},
   "outputs": [],
   "source": [
    "train_set"
   ]
  },
  {
   "cell_type": "code",
   "execution_count": null,
   "id": "ba76ea50",
   "metadata": {},
   "outputs": [],
   "source": []
  },
  {
   "cell_type": "markdown",
   "id": "34c58cf8",
   "metadata": {},
   "source": [
    "### Splitting X and Y values"
   ]
  },
  {
   "cell_type": "code",
   "execution_count": null,
   "id": "38b32e6f",
   "metadata": {},
   "outputs": [],
   "source": [
    "cars_in = train_set.drop(\"price\",axis = 1)\n",
    "cars_out = train_set[[\"price\"]]"
   ]
  },
  {
   "cell_type": "code",
   "execution_count": null,
   "id": "1047cdc8",
   "metadata": {},
   "outputs": [],
   "source": [
    "# Using the fit method to specify the columns to be dropped in the Custom Transformer\n",
    "\"\"\"\n",
    "class column_drop_transformer(BaseEstimator,TransformerMixin):\n",
    "    def __init__(self,columns = None):\n",
    "        self.columns=columns\n",
    "\n",
    "    def transform(self,X,y=None):\n",
    "        return X.drop(self.columns,axis=1)\n",
    "\n",
    "    def fit(self, X, y=None):\n",
    "        self.columns = X\n",
    "        return self \n",
    "        \n",
    "    def fit_transform(self,X,y=None):\n",
    "        return self.fit(X,y).transform(X)\n",
    "    \n",
    "column_drop_pipeline = column_drop_transformer()\n",
    "a = column_drop_pipeline.fit([\"vin\",\"lot\",\"condition\"])\n",
    "cars_in_drop = column_drop_pipeline.transform(cars_in)\n",
    "cars_in_drop\n",
    "\"\"\""
   ]
  },
  {
   "cell_type": "code",
   "execution_count": null,
   "id": "8e32ee7a",
   "metadata": {},
   "outputs": [],
   "source": [
    "class features_transformer(BaseEstimator,TransformerMixin):\n",
    "    def __init__(self,columns):\n",
    "        self.columns=columns\n",
    "\n",
    "    def transform(self,X,y=None):\n",
    "        \"\"\"\n",
    "        removing specified and remaining columns since ColumnTranformer \"remainder = passthrough\" will \n",
    "        duplicate the untouched columns(remaining columns) as this transformer is returning a DataFrame\n",
    "        \"\"\"\n",
    "        remaining_columns = [col for col in X.columns if col not in self.columns]\n",
    "        return pd.DataFrame(X.drop(columns= remaining_columns ))\n",
    "        #return pd.DataFrame(X.drop(columns = self.columns,axis = 1))\n",
    "\n",
    "    def fit(self, X, y=None):\n",
    "       return self \n",
    "\n",
    "    def fit_transform(self,X,y=None):\n",
    "        return self.fit(X,y).transform(X)"
   ]
  },
  {
   "cell_type": "code",
   "execution_count": null,
   "id": "1113b944",
   "metadata": {},
   "outputs": [],
   "source": [
    "cars_in"
   ]
  },
  {
   "cell_type": "code",
   "execution_count": null,
   "id": "331923cc",
   "metadata": {},
   "outputs": [],
   "source": [
    "#testing features_transformer\n",
    "#features_pipeline = features_transformer([\"state\",\"model\",\"color\",\"vin\",\"lot\",\"country\",\"condition\"])\n",
    "#cars_in_drop = features_pipeline.transform(cars_in_grouped)\n",
    "#cars_in_drop"
   ]
  },
  {
   "cell_type": "code",
   "execution_count": null,
   "id": "95f6518e",
   "metadata": {},
   "outputs": [],
   "source": [
    "temp = pd.Series(np.where(train_set[\"mileage\"] == 0,\"== 0 Mileage\",\">0 Mileage\"))\n",
    "prct = temp.value_counts()\n",
    "prct"
   ]
  },
  {
   "cell_type": "code",
   "execution_count": null,
   "id": "acf3d270",
   "metadata": {},
   "outputs": [],
   "source": [
    "prct.plot(kind = \"barh\")"
   ]
  },
  {
   "cell_type": "code",
   "execution_count": null,
   "id": "5426451e",
   "metadata": {},
   "outputs": [],
   "source": []
  },
  {
   "cell_type": "code",
   "execution_count": null,
   "id": "0654c388",
   "metadata": {},
   "outputs": [],
   "source": [
    "numerical_pipe = Pipeline([\n",
    "    ('impute',SimpleImputer(strategy = \"median\")),\n",
    "    (\"scaler\",StandardScaler())\n",
    "])\n"
   ]
  },
  {
   "cell_type": "code",
   "execution_count": null,
   "id": "961183c7",
   "metadata": {},
   "outputs": [],
   "source": [
    "one_hot = [\"brand\"]\n",
    "ordinal = [\"title_status\"]\n",
    "\n",
    "categorical_pipe = ColumnTransformer([\n",
    "    (\"one_hot\",OneHotEncoder(sparse = False),one_hot),\n",
    "    (\"ordinal_enc\",OrdinalEncoder(),ordinal),\n",
    "])\n",
    "\n"
   ]
  },
  {
   "cell_type": "code",
   "execution_count": null,
   "id": "b5318fc1",
   "metadata": {},
   "outputs": [],
   "source": [
    "#[\"brand\",\"year\",\"title_status\",\"mileage\"]\n",
    "#[\"state\",\"model\",\"color\",\"vin\",\"lot\",\"country\",\"condition\"]\n",
    "cust_pipeline = Pipeline([\n",
    "   \n",
    "   (\"column_drop\",features_transformer([\"brand\",\"year\",\"title_status\",\"mileage\"])),\n",
    "])"
   ]
  },
  {
   "cell_type": "code",
   "execution_count": null,
   "id": "9f3272ae",
   "metadata": {},
   "outputs": [],
   "source": [
    "\n"
   ]
  },
  {
   "cell_type": "code",
   "execution_count": null,
   "id": "72e038b9",
   "metadata": {},
   "outputs": [],
   "source": [
    "#cars_in.columns.values.tolist()\n",
    "cat = [\"title_status\",\"brand\"]\n",
    "num =  [\"year\",\"mileage\"]\n",
    "\n",
    "final_pipeline = ColumnTransformer([\n",
    "    #(\"column_drop\",column_drop_transformer([\"state\",\"model\",\"color\",\"vin\",\"lot\",\"country\",\"condition\"]),al),\n",
    "    #(\"custom_trans\",cust_pipeline,list(cars_in.columns)),\n",
    "    (\"num\",numerical_pipe,num),\n",
    "    (\"cat\",categorical_pipe,cat)\n",
    "],remainder = 'drop')\n",
    "\n"
   ]
  },
  {
   "cell_type": "code",
   "execution_count": null,
   "id": "6bb03af7",
   "metadata": {},
   "outputs": [],
   "source": []
  },
  {
   "cell_type": "code",
   "execution_count": null,
   "id": "1c83bb69",
   "metadata": {},
   "outputs": [],
   "source": [
    "#cars_in_drop = cust_pipeline.transform(cars_in)\n",
    "cars_prepared = final_pipeline.fit_transform(cars_in)\n",
    "cars_prepared"
   ]
  },
  {
   "cell_type": "code",
   "execution_count": null,
   "id": "035a9df7",
   "metadata": {},
   "outputs": [],
   "source": [
    "cars_prepared[0]"
   ]
  },
  {
   "cell_type": "code",
   "execution_count": null,
   "id": "152707d8",
   "metadata": {},
   "outputs": [],
   "source": [
    "cars_prepared.shape"
   ]
  },
  {
   "cell_type": "code",
   "execution_count": null,
   "id": "9c11bd41",
   "metadata": {},
   "outputs": [],
   "source": [
    "cars_out.shape"
   ]
  },
  {
   "cell_type": "markdown",
   "id": "bfe4d4b0",
   "metadata": {},
   "source": [
    "# Training a Model"
   ]
  },
  {
   "cell_type": "code",
   "execution_count": null,
   "id": "6a836f3a",
   "metadata": {},
   "outputs": [],
   "source": [
    "def display_scores(rmse_result):\n",
    "   \n",
    "    print(\"Scores : \",rmse_result)\n",
    "    print(\"Mean : \",rmse_result.mean())\n",
    "    print(\"SD : \",rmse_result.std())    "
   ]
  },
  {
   "cell_type": "code",
   "execution_count": null,
   "id": "86bdddb7",
   "metadata": {},
   "outputs": [],
   "source": [
    "reg_model = LinearRegression()\n",
    "reg_model.fit(cars_prepared,cars_out)"
   ]
  },
  {
   "cell_type": "code",
   "execution_count": null,
   "id": "22177c70",
   "metadata": {},
   "outputs": [],
   "source": [
    "rand_data = cars_prepared[:5]\n",
    "rand_data_out = cars_out[:5]\n",
    "rand_pred = reg_model.predict(rand_data)\n",
    "np.concatenate((rand_pred.reshape(-1,1),rand_data_out.values.reshape(-1,1)),1)"
   ]
  },
  {
   "cell_type": "code",
   "execution_count": null,
   "id": "8376ee17",
   "metadata": {},
   "outputs": [],
   "source": []
  },
  {
   "cell_type": "code",
   "execution_count": null,
   "id": "4556d5ea",
   "metadata": {},
   "outputs": [],
   "source": [
    "cars_predicted_lin = reg_model.predict(cars_prepared)\n",
    "mse_lin = mean_squared_error(cars_predicted_lin,cars_out)\n",
    "rmse_lin = np.sqrt(mse_lin)\n",
    "rmse_lin"
   ]
  },
  {
   "cell_type": "code",
   "execution_count": null,
   "id": "f96598fe",
   "metadata": {},
   "outputs": [],
   "source": [
    "tree_model = DecisionTreeRegressor()\n",
    "tree_model.fit(cars_prepared,cars_out)\n"
   ]
  },
  {
   "cell_type": "code",
   "execution_count": null,
   "id": "2b84358f",
   "metadata": {},
   "outputs": [],
   "source": [
    "cars_predicted_tree = tree_model.predict(cars_prepared)\n",
    "mse_tree = mean_squared_error(cars_predicted_tree,cars_out)\n",
    "rmse_tree = np.sqrt(mse_tree)\n",
    "rmse_tree"
   ]
  },
  {
   "cell_type": "code",
   "execution_count": null,
   "id": "95dc58fd",
   "metadata": {},
   "outputs": [],
   "source": [
    "random_forest = RandomForestRegressor(n_estimators = 100)\n",
    "random_forest.fit(cars_prepared,cars_out)"
   ]
  },
  {
   "cell_type": "code",
   "execution_count": null,
   "id": "c30cdf20",
   "metadata": {},
   "outputs": [],
   "source": [
    "cars_predicted_forest = random_forest.predict(cars_prepared)\n",
    "mse_rand_forest = mean_squared_error(cars_predicted_forest,cars_out)\n",
    "rmse_forest = np.sqrt(mse_rand_forest)\n",
    "rmse_forest"
   ]
  },
  {
   "cell_type": "code",
   "execution_count": null,
   "id": "3c82f49f",
   "metadata": {},
   "outputs": [],
   "source": [
    "lin_scores = cross_val_score(reg_model,\n",
    "                            X = cars_prepared,\n",
    "                            y = cars_out,\n",
    "                            cv = 10,\n",
    "                            scoring = \"neg_mean_squared_error\")\n",
    "\n",
    "rmse_lin_scores = np.sqrt(-lin_scores) \n",
    "display_scores(rmse_lin_scores)\n",
    "#lin_scores"
   ]
  },
  {
   "cell_type": "code",
   "execution_count": null,
   "id": "1c0f10c1",
   "metadata": {},
   "outputs": [],
   "source": [
    "tree_scores = cross_val_score(tree_model,\n",
    "                              X = cars_prepared,\n",
    "                              y = cars_out,\n",
    "                              cv = 10,\n",
    "                              scoring =\"neg_mean_squared_error\"\n",
    "                             )\n",
    "rmse_tree_scores = np.sqrt(-tree_scores)\n",
    "display_scores(rmse_tree_scores)"
   ]
  },
  {
   "cell_type": "code",
   "execution_count": null,
   "id": "14b58473",
   "metadata": {},
   "outputs": [],
   "source": [
    "forest_scores = cross_val_score(random_forest,\n",
    "                              X = cars_prepared,\n",
    "                              y = cars_out,\n",
    "                              cv = 10,\n",
    "                              scoring =\"neg_mean_squared_error\"\n",
    "                             )\n",
    "rmse_forest_scores = np.sqrt(-forest_scores)\n",
    "display_scores(rmse_forest_scores)"
   ]
  },
  {
   "cell_type": "markdown",
   "id": "e75557ff",
   "metadata": {},
   "source": [
    "# Fine tuning the best model"
   ]
  },
  {
   "cell_type": "code",
   "execution_count": null,
   "id": "ce847fd3",
   "metadata": {},
   "outputs": [],
   "source": [
    "forest_param = [\n",
    "    {\"n_estimators\":[60,90,120,150,200],\"max_features\":[1,2,3]},\n",
    "    {\"n_estimators\":[60,90,120,150,200],\"bootstrap\":[False],\"max_features\":[1,2,3]}\n",
    "]\n",
    "\n",
    "forest_grid = GridSearchCV(random_forest,\n",
    "                           param_grid = forest_param,\n",
    "                           scoring = \"neg_mean_squared_error\",\n",
    "                          cv = 10)\n",
    "\n",
    "forest_grid.fit(cars_prepared,cars_out)"
   ]
  },
  {
   "cell_type": "code",
   "execution_count": null,
   "id": "990f0506",
   "metadata": {},
   "outputs": [],
   "source": [
    "forest_grid.best_params_ , np.sqrt(-forest_grid.best_score_)"
   ]
  },
  {
   "cell_type": "code",
   "execution_count": null,
   "id": "21d713f6",
   "metadata": {},
   "outputs": [],
   "source": [
    "scores = forest_grid.cv_results_\n",
    "for score,params in zip(scores[\"mean_test_score\"],scores[\"params\"]):\n",
    "    print(np.sqrt(-score),params)"
   ]
  },
  {
   "cell_type": "markdown",
   "id": "8f2f3f5b",
   "metadata": {},
   "source": [
    "# Evaluation on test data"
   ]
  },
  {
   "cell_type": "code",
   "execution_count": null,
   "id": "4d8d1198",
   "metadata": {},
   "outputs": [],
   "source": [
    "test_set = grouping_and_null.transform(test_set)"
   ]
  },
  {
   "cell_type": "code",
   "execution_count": null,
   "id": "971918ec",
   "metadata": {},
   "outputs": [],
   "source": [
    "test_set"
   ]
  },
  {
   "cell_type": "code",
   "execution_count": null,
   "id": "0077c287",
   "metadata": {},
   "outputs": [],
   "source": [
    "x_test = test_set.drop(\"price\",axis = 1)\n",
    "y_test = test_set[\"price\"]"
   ]
  },
  {
   "cell_type": "code",
   "execution_count": null,
   "id": "f3129d35",
   "metadata": {},
   "outputs": [],
   "source": [
    "#x_test_drop = cust_pipeline.transform(x_test)\n",
    "x_test_developed = final_pipeline.transform(x_test)"
   ]
  },
  {
   "cell_type": "code",
   "execution_count": null,
   "id": "9d7c0900",
   "metadata": {},
   "outputs": [],
   "source": [
    "x_test_developed, x_test_developed.shape "
   ]
  },
  {
   "cell_type": "code",
   "execution_count": null,
   "id": "312388d7",
   "metadata": {},
   "outputs": [],
   "source": [
    "pred_x_test = reg_model.predict(x_test_developed)\n",
    "mse_x_test = mean_squared_error(pred_x_test,y_test)\n"
   ]
  },
  {
   "cell_type": "code",
   "execution_count": null,
   "id": "f19c08f7",
   "metadata": {},
   "outputs": [],
   "source": [
    "rmse_x_test = np.sqrt(mse_x_test)\n",
    "rmse_x_test"
   ]
  },
  {
   "cell_type": "code",
   "execution_count": null,
   "id": "794247bd",
   "metadata": {},
   "outputs": [],
   "source": []
  },
  {
   "cell_type": "markdown",
   "id": "4d1c7e7c",
   "metadata": {},
   "source": [
    "# Creating pickle file and columns file"
   ]
  },
  {
   "cell_type": "code",
   "execution_count": null,
   "id": "d4c17480",
   "metadata": {},
   "outputs": [],
   "source": [
    "pkl.dump(reg_model,open(\"lin_model\",\"wb\"))"
   ]
  },
  {
   "cell_type": "code",
   "execution_count": null,
   "id": "90febc50",
   "metadata": {},
   "outputs": [],
   "source": [
    "get_brand_cols = final_pipeline.named_transformers_[\"cat\"].named_transformers_[\"one_hot\"].get_feature_names_out()\n",
    "get_status_cols = final_pipeline.named_transformers_[\"cat\"].named_transformers_[\"ordinal_enc\"].categories_\n",
    "get_brand_cols,get_status_cols\n"
   ]
  },
  {
   "cell_type": "code",
   "execution_count": null,
   "id": "5ba5b155",
   "metadata": {},
   "outputs": [],
   "source": []
  },
  {
   "cell_type": "code",
   "execution_count": null,
   "id": "c2334389",
   "metadata": {},
   "outputs": [],
   "source": [
    "brand_columns = {\n",
    "    \"columns\": [col for col in get_brand_cols]\n",
    "}\n",
    "\n",
    "status_columns = {\n",
    "    \"columns\":[col for col in get_status_cols[0]]\n",
    "}\n",
    "brand_columns[\"columns\"],status_columns[\"columns\"]\n"
   ]
  },
  {
   "cell_type": "code",
   "execution_count": null,
   "id": "8f594e9b",
   "metadata": {},
   "outputs": [],
   "source": [
    "\n",
    "with open(\"brand_columns.json\",\"w\") as file:\n",
    "    file.write(json.dumps(brand_columns[\"columns\"]))\n",
    "\n",
    "with open(\"status_columns.json\",\"w\") as file:\n",
    "    file.write(json.dumps(status_columns[\"columns\"]))\n"
   ]
  },
  {
   "cell_type": "code",
   "execution_count": null,
   "id": "9a2fdcea",
   "metadata": {},
   "outputs": [],
   "source": []
  },
  {
   "cell_type": "code",
   "execution_count": null,
   "id": "13bce461",
   "metadata": {},
   "outputs": [],
   "source": [
    "\n"
   ]
  },
  {
   "cell_type": "code",
   "execution_count": null,
   "id": "6c68e90e",
   "metadata": {},
   "outputs": [],
   "source": [
    "y_test.iloc[0]"
   ]
  },
  {
   "cell_type": "code",
   "execution_count": null,
   "id": "3a799705",
   "metadata": {},
   "outputs": [],
   "source": [
    "l = pd.DataFrame({\n",
    "    \"brand\":[\"nissan\"],\n",
    "    \"model\":[\"doors\"],\n",
    "    \"year\":[2015],\n",
    "    \"title_status\":[\"clean vehicle\"],\n",
    "    \"mileage\":[37953],\n",
    "    \"color\" :[\"super black\"],\n",
    "    \"vin\":[\"1n4az0cp7fc314468\"],\n",
    "    \n",
    "    \"state\":[\"new york\"],\n",
    "    \"country\":[\"usa\"],\n",
    "    \"condition\"  :[\"11 days left\"]\n",
    "})\n",
    "user = final_pipeline.transform(l)\n",
    "#final_pipeline.transform([a])\n",
    "user"
   ]
  },
  {
   "cell_type": "code",
   "execution_count": null,
   "id": "4161532d",
   "metadata": {},
   "outputs": [],
   "source": [
    "reg_model.predict(user)"
   ]
  }
 ],
 "metadata": {
  "kernelspec": {
   "display_name": "Python 3 (ipykernel)",
   "language": "python",
   "name": "python3"
  },
  "language_info": {
   "codemirror_mode": {
    "name": "ipython",
    "version": 3
   },
   "file_extension": ".py",
   "mimetype": "text/x-python",
   "name": "python",
   "nbconvert_exporter": "python",
   "pygments_lexer": "ipython3",
   "version": "3.10.1"
  }
 },
 "nbformat": 4,
 "nbformat_minor": 5
}
